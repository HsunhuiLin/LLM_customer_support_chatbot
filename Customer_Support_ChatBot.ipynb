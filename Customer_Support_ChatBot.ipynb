{
  "nbformat": 4,
  "nbformat_minor": 0,
  "metadata": {
    "colab": {
      "provenance": [],
      "authorship_tag": "ABX9TyP3620RMHbDyWuVO1Jf4wYo",
      "include_colab_link": true
    },
    "kernelspec": {
      "name": "python3",
      "display_name": "Python 3"
    },
    "language_info": {
      "name": "python"
    }
  },
  "cells": [
    {
      "cell_type": "markdown",
      "metadata": {
        "id": "view-in-github",
        "colab_type": "text"
      },
      "source": [
        "<a href=\"https://colab.research.google.com/github/HsunhuiLin/LLM_customer_support_chatbot/blob/main/Customer_Support_ChatBot.ipynb\" target=\"_parent\"><img src=\"https://colab.research.google.com/assets/colab-badge.svg\" alt=\"Open In Colab\"/></a>"
      ]
    },
    {
      "cell_type": "code",
      "execution_count": null,
      "metadata": {
        "id": "00OmdZLF-e7e"
      },
      "outputs": [],
      "source": [
        "import os\n",
        "os.getcwd()\n",
        "os.environ['GOOGLE_APPLICATION_CREDENTIALS']='/content/composed-setup-416711-624ff8c42fc5.json'\n"
      ]
    },
    {
      "cell_type": "markdown",
      "source": [
        "Give chatbot instruction and find out if the given items are eligible to return.\n",
        "\n",
        "Context: return policy\n",
        "1. most items within 30 days of receipt of shipment.\n",
        "2.  items must be returned new, unused and complete, without any signs of damage.\n",
        "3. Products that may quickly spoil or whose expiration date would be quickly exceeded\n",
        "4. Products that are not suitable for return for reasons of health protection or hygiene"
      ],
      "metadata": {
        "id": "kaLYfOqg-kEZ"
      }
    },
    {
      "cell_type": "code",
      "source": [
        "import vertexai\n",
        "from vertexai.language_models import ChatModel, InputOutputTextPair\n",
        "chat_model = ChatModel.from_pretrained('chat-bison')"
      ],
      "metadata": {
        "id": "oj1QTDYfABpu"
      },
      "execution_count": null,
      "outputs": []
    },
    {
      "cell_type": "code",
      "source": [
        "context = '''You are a customer service chatbot. Based on the return policy, confirm with the customer whether the requested item is eligible for return.\n",
        "Return policy: items within 30 days of receipt of shipment is eligible for return. Items must be returned new, unused and complete, without any signs of damage.\n",
        "Products that may quickly spoil or whose expiration date would be quickly exceeded are not eligible for return.\n",
        "'''"
      ],
      "metadata": {
        "id": "2jaxRFpGEXOe"
      },
      "execution_count": null,
      "outputs": []
    },
    {
      "cell_type": "code",
      "source": [
        "chat = chat_model.start_chat(context=context)"
      ],
      "metadata": {
        "id": "sjJAo7XbD9Gd"
      },
      "execution_count": null,
      "outputs": []
    },
    {
      "cell_type": "code",
      "source": [
        "input_text=''\n",
        "\n",
        "print(\"Thanks for contacting our customer service, I am in charge of the return support. How can I help you today?\")\n",
        "print(\"You can type in END to end the chat.\")\n",
        "while input_text != 'END':\n",
        "  input_text = input('')\n",
        "  response = chat.send_message(input_text)\n",
        "  print(response.text)"
      ],
      "metadata": {
        "colab": {
          "base_uri": "https://localhost:8080/"
        },
        "id": "r6m52IJrMktW",
        "outputId": "b38ff4e7-e5b2-46fd-9abb-958636eea72b"
      },
      "execution_count": null,
      "outputs": [
        {
          "output_type": "stream",
          "name": "stdout",
          "text": [
            "Thanks for contacting our customer service, I am in charge of the return support. How can I help you today?\n",
            "You can type in END to end the chat.\n",
            "Can I return the earbuds I purchased last month?\n",
            " Unfortunately, earbuds are not eligible for return due to hygiene reasons. Our return policy states that products that are not suitable for return for reasons of health protection or hygiene cannot be accepted.\n",
            "END\n",
            " Thank you for reaching out. If you have any other questions or concerns, please don't hesitate to contact us again.\n"
          ]
        }
      ]
    }
  ]
}